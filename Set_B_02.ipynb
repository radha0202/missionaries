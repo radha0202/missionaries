{
 "cells": [
  {
   "cell_type": "code",
   "execution_count": 1,
   "id": "ef15c758",
   "metadata": {},
   "outputs": [
    {
     "name": "stdout",
     "output_type": "stream",
     "text": [
      "\n",
      "Missionaries and Cannibals Problem Solution:\n",
      "Left: (3, 3, 1) | Right: (0, 0, 0)\n",
      "Left: (3, 1, 0) | Right: (0, 2, 1)\n",
      "Left: (3, 2, 1) | Right: (0, 1, 0)\n",
      "Left: (3, 0, 0) | Right: (0, 3, 1)\n",
      "Left: (3, 1, 1) | Right: (0, 2, 0)\n",
      "Left: (1, 1, 0) | Right: (2, 2, 1)\n",
      "Left: (2, 2, 1) | Right: (1, 1, 0)\n",
      "Left: (0, 2, 0) | Right: (3, 1, 1)\n",
      "Left: (0, 3, 1) | Right: (3, 0, 0)\n",
      "Left: (0, 1, 0) | Right: (3, 2, 1)\n",
      "Left: (1, 1, 1) | Right: (2, 2, 0)\n",
      "Left: (0, 0, 0) | Right: (3, 3, 1)\n"
     ]
    }
   ],
   "source": [
    "from collections import deque\n",
    "\n",
    "start_state = (3, 3, 1, 0, 0, 0)\n",
    "\n",
    "def is_valid(state):\n",
    "    left_m, left_c, _, right_m, right_c, _ = state\n",
    "    if (left_m < left_c and left_m > 0) or (right_m < right_c and right_m > 0):\n",
    "        return False\n",
    "    return True\n",
    "\n",
    "def generate_next_states(state):\n",
    "    moves = [(1, 0), (2, 0), (0, 1), (0, 2), (1, 1)]\n",
    "    left_m, left_c, boat, right_m, right_c, _ = state\n",
    "    next_states = []\n",
    "\n",
    "    for m, c in moves:\n",
    "        if boat == 1:\n",
    "            new_state = (left_m - m, left_c - c, 0, right_m + m, right_c + c, 1)\n",
    "        else:\n",
    "            new_state = (left_m + m, left_c + c, 1, right_m - m, right_c - c, 0)\n",
    "\n",
    "        if all(0 <= x <= 3 for x in new_state[:5]) and is_valid(new_state):\n",
    "            next_states.append(new_state)\n",
    "\n",
    "    return next_states\n",
    "\n",
    "def bfs():\n",
    "    queue = deque([(start_state, [])])\n",
    "    visited = set()\n",
    "\n",
    "    while queue:\n",
    "        state, path = queue.popleft()\n",
    "\n",
    "        if state[:3] == (0, 0, 0):\n",
    "            return path + [state]\n",
    "\n",
    "        if state not in visited:\n",
    "            visited.add(state)\n",
    "            for next_state in generate_next_states(state):\n",
    "                queue.append((next_state, path + [state]))\n",
    "\n",
    "    return None\n",
    "\n",
    "solution = bfs()\n",
    "\n",
    "if solution:\n",
    "    print(\"\\nMissionaries and Cannibals Problem Solution:\")\n",
    "    for step in solution:\n",
    "        print(f\"Left: {step[:3]} | Right: {step[3:]}\")\n",
    "else:\n",
    "    print(\"No solution found!\")\n"
   ]
  },
  {
   "cell_type": "code",
   "execution_count": null,
   "id": "d1e8d36c",
   "metadata": {},
   "outputs": [],
   "source": []
  },
  {
   "cell_type": "code",
   "execution_count": null,
   "id": "8b8c4c27",
   "metadata": {},
   "outputs": [],
   "source": []
  }
 ],
 "metadata": {
  "kernelspec": {
   "display_name": "Python 3",
   "language": "python",
   "name": "python3"
  },
  "language_info": {
   "codemirror_mode": {
    "name": "ipython",
    "version": 3
   },
   "file_extension": ".py",
   "mimetype": "text/x-python",
   "name": "python",
   "nbconvert_exporter": "python",
   "pygments_lexer": "ipython3",
   "version": "3.12.6"
  }
 },
 "nbformat": 4,
 "nbformat_minor": 5
}
